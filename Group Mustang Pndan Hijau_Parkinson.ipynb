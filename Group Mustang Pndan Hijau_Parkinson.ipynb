{
  "cells": [
    {
      "attachments": {},
      "cell_type": "markdown",
      "metadata": {},
      "source": [
        "### Group Mustang Pandan Hijau:\n",
        "1. Keith Cahyawiyanata (2141720217)\n",
        "2. Khafillah Akbar Syahputra (2141720152)\n",
        "3. Muhammad Asad (2141720269)\n",
        "4. Mumtaz Zain Abdullah (2141720205)\n",
        "5. Septian Fahmi Ardiansyah (2141720148)"
      ]
    },
    {
      "attachments": {},
      "cell_type": "markdown",
      "metadata": {},
      "source": [
        "We require pertinent data to train and assess a regression model that can predict the \"wearing-off\" of anti-Parkinson's disease medicine. Typically, we would need a dataset with features (independent variables) that affect how quickly a medication wears off and a target variable (dependent variable) that gauges how much wear-off has occurred."
      ]
    },
    {
      "attachments": {},
      "cell_type": "markdown",
      "metadata": {},
      "source": [
        "It's crucial to remember that we should thoroughly examine and prepare the data before building the model. This may entail dealing with missing values, scaling variables if necessary, and examining the independent variables for potential multicollinearity problems.\n",
        "\n",
        "We can move forward with creating the regression model after preprocessing the data. The \"wearing_off\" column is the goal variable here, and the following are some possible independent variables:\n",
        "\n",
        "heart_rate: The heart rate of the participant.\n",
        "\n",
        "steps: The number of steps taken by the participant.\n",
        "\n",
        "stress_score: A score indicating the stress level of the participant.\n",
        "\n",
        "awake: Time spent awake during sleep.\n",
        "\n",
        "deep: Time spent in deep sleep.\n",
        "\n",
        "light: Time spent in light sleep.\n",
        "\n",
        "rem: Time spent in REM sleep.\n",
        "\n",
        "nonrem_total: Total time spent in non-REM sleep.\n",
        "\n",
        "total: Total sleep time.\n",
        "\n",
        "nonrem_percentage: Percentage of non-REM sleep.\n",
        "\n",
        "sleep_efficiency: Sleep efficiency of the participant.\n",
        "\n",
        "time_from_last_drug_taken: Time elapsed since the last drug intake.\n",
        "\n",
        "wo_duration: Duration of wearing-off effects.\n",
        "\n",
        "timestamp_hour: Hour of the day when the data was recorded.\n",
        "\n",
        "timestamp_dayofweek: Day of the week when the data was recorded.\n",
        "\n",
        "timestamp_hour_sin: Sine transformation of the hour variable.\n",
        "\n",
        "timestamp_hour_cos: Cosine transformation of the hour variable."
      ]
    },
    {
      "attachments": {},
      "cell_type": "markdown",
      "metadata": {},
      "source": [
        "We will move forward with creating the multiple linear regression model based on the supplied variables. We must first make sure that the data has been correctly preprocessed and that any necessary transformations or handling of missing values has been carried out.\n",
        "\n",
        "The regression model can be built in the following steps:\n",
        "\n",
        "1. Handle Missing Values: Verify that none of the relevant variables (heart rate, steps, stress score, awake, deep, light, rem, nonrem_total, total, nonrem_percentage, sleep efficiency, time from last medicine used, wo duration) have any missing values in the dataset. If any missing values are discovered, you have the option of either deleting the related rows or utilizing the proper methods to impute the missing values.\n",
        "\n",
        "2. Examine the correlation matrix of the independent variables to look for any instances of multicollinearity. It is crucial to handle multicollinearity since it can negatively impact the performance of the regression model. Consider eliminating one of the highly correlated variables if multicollinearity is present, or use dimensionality reduction methods like Principal Component Analysis (PCA).\n",
        "\n",
        "3. Dividing the Data: Create training and testing sets from the dataset. The regression model will be trained using the training set, and its performance will be assessed using the testing set.\n",
        "\n",
        "4. If necessary, normalize the variables such that they have a mean of 0 and a standard deviation of 1. This is useful if the variables are on different scales. Depending on the circumstances and significance of the variables, this step may not always be required.\n",
        "\n",
        "5. Construction of the Regression Model Using the practice data, fit the multiple linear regression model. For this, you can utilize Python packages like scikit-learn or statsmodels. The model equation is going to look like this:\n",
        "\n",
        "    wearing_off is equal to b0 plus b1 times heart rate, b2 times steps,... plus bn times timestamp_hour cos.\n",
        "\n",
        "    Here, the coefficients for each independent variable are b1, b2,..., and bn, whereas b0 represents the intercept.\n",
        "\n",
        "6. Utilize the testing dataset to gauge the model's performance after it has been trained. Metrics like mean squared error (MSE), mean absolute error (MAE), and R-squared are frequently used to measure the effectiveness of regression models.\n",
        "\n",
        "7. Analyzing the model: To comprehend the connection between each independent variable and the \"wearing_off\" result, examine the coefficients (b1, b2,..., bn). A positive correlation is implied by a positive coefficient, whereas a negative correlation is implied by a negative coefficient. Use p-values or confidence intervals to determine the statistical significance of the coefficients."
      ]
    },
    {
      "attachments": {},
      "cell_type": "markdown",
      "metadata": {},
      "source": [
        "## Code: "
      ]
    },
    {
      "cell_type": "code",
      "execution_count": null,
      "metadata": {},
      "outputs": [],
      "source": [
        "import pandas as pd\n",
        "from sklearn.model_selection import train_test_split\n",
        "from sklearn.linear_model import LinearRegression\n",
        "from sklearn.metrics import mean_squared_error, r2_score"
      ]
    },
    {
      "attachments": {},
      "cell_type": "markdown",
      "metadata": {},
      "source": [
        "#### Load the dataset (assuming it's stored in a CSV file)"
      ]
    },
    {
      "cell_type": "code",
      "execution_count": null,
      "metadata": {},
      "outputs": [],
      "source": [
        "data = pd.read_csv('https://docs.google.com/spreadsheets/d/1PFtS5WstPA-z5k8kDqgs1m4Ecj8KmH64z_J0XVoXf6o/edit?usp=sharing')"
      ]
    },
    {
      "attachments": {},
      "cell_type": "markdown",
      "metadata": {},
      "source": [
        "#### Split the data into training and testing sets"
      ]
    },
    {
      "cell_type": "code",
      "execution_count": null,
      "metadata": {},
      "outputs": [],
      "source": [
        "X = data[['heart_rate', 'steps', 'stress_score', 'awake', 'deep', 'light', 'rem', 'nonrem_total', 'total',\n",
        "          'nonrem_percentage', 'sleep_efficiency', 'time_from_last_drug_taken']]\n",
        "y = data['wearing_off']\n",
        "X_train, X_test, y_train, y_test = train_test_split(X, y, test_size=0.2, random_state=42)"
      ]
    },
    {
      "attachments": {},
      "cell_type": "markdown",
      "metadata": {},
      "source": [
        "#### Build the regression model"
      ]
    },
    {
      "cell_type": "code",
      "execution_count": null,
      "metadata": {},
      "outputs": [],
      "source": [
        "model = LinearRegression()\n",
        "model.fit(X_train, y_train)"
      ]
    },
    {
      "attachments": {},
      "cell_type": "markdown",
      "metadata": {},
      "source": [
        "#### Make predictions on the testing set"
      ]
    },
    {
      "cell_type": "code",
      "execution_count": null,
      "metadata": {},
      "outputs": [],
      "source": [
        "y_pred = model.predict(X_test)"
      ]
    },
    {
      "attachments": {},
      "cell_type": "markdown",
      "metadata": {},
      "source": [
        "#### Evaluate the model"
      ]
    },
    {
      "cell_type": "code",
      "execution_count": null,
      "metadata": {},
      "outputs": [],
      "source": [
        "mse = mean_squared_error(y_test, y_pred)\n",
        "mae = mean_absolute_error(y_test, y_pred)\n",
        "r2 = r2_score(y_test, y_pred)\n",
        "\n",
        "print(\"Mean Squared Error:\", mse)\n",
        "print(\"Mean Absolute Error:\", mae)\n",
        "print(\"R-squared:\", r2)"
      ]
    },
    {
      "attachments": {},
      "cell_type": "markdown",
      "metadata": {},
      "source": [
        "#### Model evaluation"
      ]
    },
    {
      "cell_type": "code",
      "execution_count": null,
      "metadata": {},
      "outputs": [],
      "source": [
        "mse = mean_squared_error(y_test, y_pred)\n",
        "r2 = r2_score(y_test, y_pred)"
      ]
    },
    {
      "attachments": {},
      "cell_type": "markdown",
      "metadata": {},
      "source": [
        "#### Interpret the model - examine the coefficients"
      ]
    },
    {
      "cell_type": "code",
      "execution_count": null,
      "metadata": {},
      "outputs": [],
      "source": [
        "coefficients = pd.DataFrame({'Variable': X.columns, 'Coefficient': model.coef_})\n",
        "print(coefficients)"
      ]
    },
    {
      "attachments": {},
      "cell_type": "markdown",
      "metadata": {},
      "source": [
        "##### Chart and Diagram"
      ]
    },
    {
      "cell_type": "code",
      "execution_count": null,
      "metadata": {},
      "outputs": [],
      "source": [
        "import matplotlib.pyplot as plt\n",
        "\n",
        "# Create a bar chart of the coefficients\n",
        "plt.figure(figsize=(10, 6))\n",
        "plt.bar(coefficients['Variable'], coefficients['Coefficient'])\n",
        "plt.xlabel('Variable')\n",
        "plt.ylabel('Coefficient')\n",
        "plt.title('Linear Regression Coefficients')\n",
        "plt.xticks(rotation=45)\n",
        "plt.show()"
      ]
    },
    {
      "attachments": {},
      "cell_type": "markdown",
      "metadata": {},
      "source": [
        "#### Dataset\n"
      ]
    },
    {
      "cell_type": "code",
      "execution_count": null,
      "metadata": {},
      "outputs": [],
      "source": [
        "variable = []\n",
        "wearing_off = []\n"
      ]
    },
    {
      "attachments": {},
      "cell_type": "markdown",
      "metadata": {},
      "source": [
        "#### Create the scatter plot"
      ]
    },
    {
      "cell_type": "code",
      "execution_count": null,
      "metadata": {},
      "outputs": [],
      "source": [
        "plt.scatter(variable, wearing_off)\n",
        "plt.xlabel('Variable')\n",
        "plt.ylabel('Wearing Off')\n",
        "plt.title('Relationship between Steps and Wearing Off')\n",
        "plt.show()"
      ]
    },
    {
      "attachments": {},
      "cell_type": "markdown",
      "metadata": {},
      "source": [
        "#### Set the labels and title\n"
      ]
    },
    {
      "cell_type": "code",
      "execution_count": null,
      "metadata": {},
      "outputs": [],
      "source": [
        "plt.xlabel(\"Time since Medication Intake (hours)\")\n",
        "plt.ylabel(\"Degree of Medication Wearing-off\")\n",
        "plt.title(\"Medication Wearing-off vs. Time\")\n"
      ]
    },
    {
      "attachments": {},
      "cell_type": "markdown",
      "metadata": {},
      "source": [
        "#### Display the plot"
      ]
    },
    {
      "cell_type": "code",
      "execution_count": null,
      "metadata": {},
      "outputs": [],
      "source": [
        "plt.show()"
      ]
    }
  ],
  "metadata": {
    "kernelspec": {
      "display_name": "Python 3",
      "language": "python",
      "name": "python3"
    },
    "language_info": {
      "codemirror_mode": {
        "name": "ipython",
        "version": 3
      },
      "file_extension": ".py",
      "mimetype": "text/x-python",
      "name": "python",
      "nbconvert_exporter": "python",
      "pygments_lexer": "ipython3",
      "version": "3.11.1"
    },
    "orig_nbformat": 4
  },
  "nbformat": 4,
  "nbformat_minor": 2
}
